{
 "cells": [
  {
   "cell_type": "markdown",
   "id": "1d7a8080",
   "metadata": {},
   "source": [
    "---\n",
    "layout: post\n",
    "title: Final Refelction for CSSE 2 \n",
    "description: CSSE Senior Checkout\n",
    "categories: [Foundation]\n",
    "courses: { csse: {week: 1}, csp: {week: 1}, csa: {week: 1} }\n",
    "comments: true\n",
    "sticky_rank: 1\n",
    "---"
   ]
  },
  {
   "cell_type": "markdown",
   "id": "e409457c",
   "metadata": {},
   "source": [
    "{% assign codeData = site.data.finalReview %}\n",
    "{% include tailwind/finaleSenior.html data=codeData %}"
   ]
  },
  {
   "cell_type": "markdown",
   "id": "af85322d",
   "metadata": {},
   "source": [
    "{% include tailwind/finaleSenior2.html data=codeData %}"
   ]
  }
 ],
 "metadata": {
  "language_info": {
   "name": "python"
  }
 },
 "nbformat": 4,
 "nbformat_minor": 5
}
