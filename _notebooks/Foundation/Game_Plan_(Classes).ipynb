{
 "cells": [
  {
   "cell_type": "raw",
   "metadata": {
    "vscode": {
     "languageId": "raw"
    }
   },
   "source": [
    "---\n",
    "layout: post\n",
    "title: Game Plan (Classes) \n",
    "description: Popcorn Hacks \n",
    "categories: [Foundation]\n",
    "courses: { csse: {week: 1}, csp: {week: 1}, csa: {week: 1} }\n",
    "comments: true\n",
    "sticky_rank: 1\n",
    "---"
   ]
  },
  {
   "cell_type": "markdown",
   "metadata": {},
   "source": [
    "# Game Planning\n",
    "\n",
    "This will be our new game about a person who goes crazy and starts finding a wierd reality in his basement, he cannot escape, filled with Anime girls keeping him down in his basement. \n",
    "\n",
    "## STORY\n",
    "\n",
    "So, the main character wakes up in a basement and has some sort of memory loss. Due to their lack of food and water for the past few days, they start to hallucinate anime girls around the basement because the main character is just that much of a degenerate. There are two or three girls around the level that the main character can interact with, but none of them actually tell him how to get out of the basement because they are nothing but hallucinations.\n",
    "\n",
    "Either way, the anime girls quiz him on his knowledge. One girl will be asking him questions about JavaScript, one will ask him math questions, and the other will be asking questions that are almost impossible to understand. In order to move onto the next game, the main character has to correctly answer all of the last girl's questions. Only then will he finally snap out of his degenerate state.\n",
    "\n",
    "Guy with memory loss. He remembers that people call him a Degen, so he assumes that 'Deg3n' is his name. He is just so delusional that he doesn't realize that he remembers people calling him degen because they were calling him a degenerate.\n",
    "\n",
    "### Classes\n",
    "\n",
    "Classes are helpful when organizing your code and work as a blueprint for creating different objects in code. Classes are created using the keyword: class. This would be followed by a name for that class.\n",
    "\n",
    "There are three different aspects that a class element that could be characterized as: \n",
    "- Kind: Getter, setter, method, or field\n",
    "- Location: Static or instance\n",
    "- Visibility: Public or private\n",
    "\n",
    "We will use `constructors` a special method in a JavaScript class that is automatically called when an object is created. It initializes the object’s properties. This will be usefull to create our objects such as our player, NPC, and background. \n",
    "\n",
    "### This was our initial ideations:\n",
    "\n",
    "![Image](https://github.com/user-attachments/assets/8b76f989-86bf-4b7b-9eb1-d2a0aa9f2da7)\n",
    "\n",
    "### This is our new extended ideations:\n",
    "\n",
    "![Image](https://github.com/user-attachments/assets/402845a7-5728-4d39-9118-b41e6f6bbf22)"
   ]
  },
  {
   "cell_type": "markdown",
   "metadata": {
    "vscode": {
     "languageId": "raw"
    }
   },
   "source": [
    "### Using Methods\n",
    "We will use the draw methdods to draw out each of our sprite sheets. There are 4 characters in our RPG game; **DeG3N** the main character and our NPCs **Hastune Chan**, **Asaka Chan**, and **Mortesen Kun**. \n",
    "\n",
    "![Image](https://github.com/user-attachments/assets/85100206-680e-4393-85f5-80924baaa0fc)\n",
    "#### **Player (DeG3n Kun)**\n",
    "\n",
    "![Image](https://github.com/user-attachments/assets/aa2ad511-c908-44c0-90d2-82e1e603b114)\n",
    "#### **Aska Chan (NPC)**\n",
    "\n",
    "![Image](https://github.com/user-attachments/assets/66e09368-5410-486e-870c-7d486577c1a3)\n",
    "#### **Hatune Chan (NPC)**\n",
    "\n",
    "![Image](https://github.com/user-attachments/assets/8bed191e-d0ff-4231-9951-019896cc8bac)\n",
    "#### **Mort Chan (NPC)**"
   ]
  },
  {
   "cell_type": "markdown",
   "metadata": {},
   "source": [
    "\n",
    "#### Our Background\n",
    "\n",
    "![Image](https://github.com/user-attachments/assets/68247917-e449-4d01-a6ff-c3c8b6dfbe94)"
   ]
  }
 ],
 "metadata": {
  "language_info": {
   "name": "python"
  }
 },
 "nbformat": 4,
 "nbformat_minor": 2
}
