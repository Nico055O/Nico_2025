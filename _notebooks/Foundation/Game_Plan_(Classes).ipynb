{
 "cells": [
  {
   "cell_type": "raw",
   "metadata": {
    "vscode": {
     "languageId": "raw"
    }
   },
   "source": [
    "---\n",
    "layout: post\n",
    "title: Game Plan (Classes) \n",
    "description: Popcorn Hacks \n",
    "categories: [Foundation]\n",
    "courses: { csse: {week: 1}, csp: {week: 1}, csa: {week: 1} }\n",
    "comments: true\n",
    "sticky_rank: 1\n",
    "---"
   ]
  },
  {
   "cell_type": "markdown",
   "metadata": {},
   "source": [
    "# Game Planning\n",
    "\n",
    "This will be our new game about a person who goes crazy and starts finding a wierd reality in his basement, he cannot escape, filled with Anime girls keeping him down in his basement.\n",
    "\n",
    "### Classes\n",
    "\n",
    "Classes are helpful when organizing your code and work as a blueprint for creating different objects in code. Classes are created using the keyword: class. This would be followed by a name for that class.\n",
    "\n",
    "There are three different aspects that a class element that could be characterized as: \n",
    "- Kind: Getter, setter, method, or field\n",
    "- Location: Static or instance\n",
    "- Visibility: Public or private\n",
    "\n",
    "![image.png](UPDATED_BasmentDwellerPLAN.draw.io.html)\n",
    "\n"
   ]
  }
 ],
 "metadata": {
  "language_info": {
   "name": "python"
  }
 },
 "nbformat": 4,
 "nbformat_minor": 2
}
