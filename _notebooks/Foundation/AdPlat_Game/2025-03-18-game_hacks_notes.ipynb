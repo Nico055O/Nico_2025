{
 "cells": [
  {
   "cell_type": "raw",
   "metadata": {
    "vscode": {
     "languageId": "raw"
    }
   },
   "source": [
    "---\n",
    "toc: true\n",
    "comments: true\n",
    "layout: post\n",
    "title: Game Hacks\n",
    "description: This post will show the changes \n",
    "categories: [Adventure plus Platformer Help (AdPlat)] \n",
    "permalink: /adplat/game-hacks\n",
    "courses: { csse: {week: 14} }\n",
    "type: ccc\n",
    "---"
   ]
  },
  {
   "cell_type": "markdown",
   "metadata": {},
   "source": [
    "### Hack 1. A red square for player one and a green square for player two. There are some definitions in the game to support alternatives.\n",
    "While my game does not have a second player yet this is how I would complete a two player game. Players (Red & Green Squares) `this.players` defines two players, Player One (Red Square) at (50, 50). With Player Two (Green Square) at (100, 50). Each player object store an identifier for the player using `name`. The players, using `context.fillStyle = player.color` to set their `color` and `context.fillRect(player.x, player.y, 30, 30)` to draw a 30x30 pixel square at their position. This will mark which player is which. This creates two players in the game that are controled seperatly with `WASD` and the Arrow keys (`<^v>`). Creating two players with two septerate controls marked with individual squares. Using the object definitions to seprate the two. \n",
    "\n",
    "### Hack 2. Instead of a static definition of the default direction as **down**, it would be beneficial if the snowspeeder was facing right.\n",
    "To make the snowspeeder face right by default in the game, I would need to adjust the initial sprite animation direction. In your sprite data (like `sprite_data_degen`), directions are typically mapped to specific rows in the sprite sheet, where each row represents a different facing direction. For instance, `down: { row: 0, start: 0, columns: 4 }` means the \"down\" direction uses row 0. To make the snowspeeder face `right` by default, you would change the initial direction setting to use the right row `right: { row: 1, start: 0, columns: 4 }`. Additionalythe character's initial facing direction when instantiating the sprite, ensuring it starts with the right direction, rather than down. This would typically involve adjusting the row value that the game uses to animate the sprite.\n",
    "\n",
    "### Hack 3. Idle animations were lost along the way of development and should be revived.\n",
    "In my game, one of my NPCs Unc was a difficult NPC to work because he did not follow the same sprite sheet as all of the other Anime NPCs and Player Sprite sheet. There had to be math done and use of the `draw()` class used to create the animation for Unc. \n",
    "```js\n",
    "src: sprite_src_unc,\n",
    "      SCALE_FACTOR: 6,\n",
    "      ANIMATION_RATE: 50,\n",
    "      pixels: { height: 192, width: 96 },\n",
    "      INIT_POSITION: { x: (width / 2), y: (height / 1.7) },\n",
    "      orientation: { rows: 4, columns: 3 },\n",
    "      down: { row: 0, start: 0, columns: 3 },\n",
    "      frameSize: { width: 32, height: 48 },\n",
    "      hitbox: { widthPercentage: 0.1, heightPercentage: 0.2 },\n",
    "      interact: function () \n",
    "```\n",
    "### Hack 4. Instead of idle being no movement, it seems like the snowspeeder or squid should be moving slightly according to their game environment. \n",
    "For my game, I have decided to add a slow drift effect when the player is in the forest as he faces the challenge of navigating a different terrain. My code used a sin wave to move the player with out any inputs. This adds a new challenge to the game where the player has to reach Unc the NPC to figure out what to do next. \n",
    "```js\n",
    "function updateDrift() {\n",
    "      driftTime += 0.05;\n",
    "      return Math.sin(driftTime) * 0.5;\n",
    "    }\n",
    "```\n",
    "This uses `updateDrift()` function to apply a drift animation to the player later in the code. With the `INIT_POSITION.y` to add the movement for the player up and down. \n",
    "```js\n",
    "updatePosition: function () \n",
    " this.INIT_POSITION.y += updateDrift();\n",
    "```\n"
   ]
  }
 ],
 "metadata": {
  "language_info": {
   "name": "python"
  }
 },
 "nbformat": 4,
 "nbformat_minor": 2
}
