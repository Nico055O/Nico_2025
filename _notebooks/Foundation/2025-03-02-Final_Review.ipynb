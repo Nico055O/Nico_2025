{
 "cells": [
  {
   "cell_type": "code",
   "execution_count": null,
   "metadata": {
    "vscode": {
     "languageId": "plaintext"
    }
   },
   "outputs": [],
   "source": [
    "---\n",
    "layout: post\n",
    "title: Final Review \n",
    "description: Final for CSSE\n",
    "categories: [Foundation]\n",
    "courses: { csse: {week: 1}, csp: {week: 1}, csa: {week: 1} }\n",
    "comments: true\n",
    "sticky_rank: 1\n",
    "---"
   ]
  },
  {
   "cell_type": "markdown",
   "metadata": {},
   "source": [
    "# Final Review\n",
    "\n",
    "This is my presentation for my final review.\n",
    "\n",
    "### 5 key things I have learned\n",
    "\n",
    "I have learned many new things in CSSE especially being introduced into computer sciences for the first time. \n",
    "- I enjoyed learning how to use github and making my own repositories.\n",
    "- I leanred how to use VS code and creating my own websites that I can personalize \n",
    "- I learned how to use tools such as AI and other students to create a working product\n",
    "- I learned how to colablorate when I created a lesson for my class\n",
    "- I learned a lot about classes and methods and how important as well as finiky they may be when developing them.\n",
    "\n",
    "### RPG Game Tinkers\n",
    "\n",
    "There were lots of tinkers that my partner and I created. Such as a questions branch for our NPC characters. We also added another level with its own background that the player can go to. As well as develop an extra NPC for the player to see. \n",
    "\n",
    "### How my tinkers work \n",
    "\n",
    "My tinkers were very finiky especially with how they were created.\n",
    "\n",
    "![Image](https://github.com/user-attachments/assets/402845a7-5728-4d39-9118-b41e6f6bbf22)\n",
    "\n",
    "I really got to explore how classes and methods work with my development. Here is an example I created to put in my game. \n"
   ]
  },
  {
   "cell_type": "code",
   "execution_count": null,
   "metadata": {
    "vscode": {
     "languageId": "javascript"
    }
   },
   "outputs": [],
   "source": [
    "%%js\n",
    "class GameControl {\n",
    "  /**\n",
    "   * GameControl class to manage the game levels and transitions\n",
    "   * @param {string} path - The path to the game assets\n",
    "   * @param {Array} levelClasses - The classes for each game level\n",
    "   */\n",
    "  constructor(path, levelClasses = [GameLevelDesert, GameLevelForest]) {\n",
    "      // GameControl properties\n",
    "      this.path = path;\n",
    "      this.levelClasses = levelClasses;\n",
    "      this.currentLevel = null;\n",
    "      this.currentLevelIndex = 0;\n",
    "      this.gameLoopCounter = 0;\n",
    "      this.isPaused = false;\n",
    "      this.exitKeyListener = this.handleExitKey.bind(this);\n",
    "      this.gameOver = null; // Callback for when the game is over \n",
    "      this.savedCanvasState = []; // Save the current level's game elements \n",
    "  }\n",
    "}\n",
    "\n",
    "// Ensure these classes are defined before using them\n",
    "class GameLevelDesert {}\n",
    "class GameLevelForest {}"
   ]
  },
  {
   "cell_type": "markdown",
   "metadata": {},
   "source": [
    "It took me a while to figure out how to define my classes especially when creating a new level in my RPG game. \n",
    "\n",
    "### Feedback\n",
    "\n",
    "I enjoyed the feedback I had gotten from Night at the Museum. It was very valuable because I was able to see what made the game great. \n",
    "\n",
    "- \"I found the way the chat with asuka changed and continued. The game was a little wonky at times, however it seems the game worked mostly as intended. Good job on that!\"\n",
    "- I really love the dialogue pathways in your game. very creative. i also just love the general idea of it- i think its very funny and creative; also reminds me of my fav game lolz. honestly i dont think theres a lot for improvement- maybe (if possible) make different end scenes or whatever (like a picture that shows up for each ending) idk i really like it\"\n",
    "- \"It’s a cool game and I’m looking forward to the next level\"\n",
    "- \"I love the animations and the sprites\"  "
   ]
  }
 ],
 "metadata": {
  "language_info": {
   "name": "python"
  }
 },
 "nbformat": 4,
 "nbformat_minor": 2
}
