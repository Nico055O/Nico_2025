{
 "cells": [
  {
   "cell_type": "code",
   "execution_count": null,
   "metadata": {
    "vscode": {
     "languageId": "plaintext"
    }
   },
   "outputs": [],
   "source": [
    "---\n",
    "layout: post\n",
    "title: Final Refelction \n",
    "description: Final Refelction for CSSE\n",
    "categories: [Foundation]\n",
    "courses: { csse: {week: 1}, csp: {week: 1}, csa: {week: 1} }\n",
    "comments: true\n",
    "sticky_rank: 1\n",
    "---"
   ]
  },
  {
   "cell_type": "markdown",
   "metadata": {},
   "source": [
    "### Reflection and Looking Forward\n",
    "\n",
    "I saw a lot of intresting projects at Night at the museum\n",
    "\n",
    "- I liked Chase's and Jack's prison break game. Their concept is important to me especially because I have played a game similar to it and it's very nostolgic for me. \n",
    "\n",
    "- I liked West's and Evan's game especially because of the detailed parts to the game with the creative concept and the intresting animations and NPC's. \n",
    "\n",
    "![Image](https://github.com/user-attachments/assets/20ce92c7-43b8-425a-ac18-970c4f6f3b8c)\n",
    "\n",
    "- I liked Ruhaan's game with the custom NPC's showing how AI can aid and not take over when creating a game. The jungle theme really impressed me because of how the game really fit the NPC's and the player.\n",
    "\n",
    "![Image](https://github.com/user-attachments/assets/b6c6323a-3a32-4b12-aa2e-81770acf9d0e)\n",
    "\n",
    "\n",
    "### My future\n",
    "\n",
    "I like to make car edits as well as take photos of cars. I want to be an Engineer, in any major and I plan and already been accepted to a lot of schools with a diverse range of engineering majors. I know a lot about cars as I like learning new things in the automotive space, but also in general.\n",
    "\n",
    "I am able to prepare myself for a life in college. Even if high school is a challenge for me, college will be a whole new experience, but I will have the resilient and persistent mindset to not only be ready for the challenges of college… but the challenges in my life. My time in high school is extremely limited and I feel that CSSE 1-2 is a good step for me to prepare me for the hard work ahead of me. \n",
    "\n",
    "### RPG Game Next Steps\n",
    "\n",
    "I plan on adding an ending dialog with the NPC at the end to not only end the game but also leave and ending message for the player. \n",
    "\n",
    "I feel after that our game is in a proper working stage with all the aspects of a proper RPG game. But it can be extened to have more levels and better depth especially to Miku.\n",
    "\n",
    "A better story element can be created as well to develop a nicer flowing story and depth in the dialog with deep relatable NPCs. \n",
    "\n",
    "### Self Grade\n",
    "\n",
    "I think I deserve a 0.9 because I have put significant effort into developing a well-structured and functional RPG game that meets the core aspects of JavaScript. Given my dedication, problem-solving skills, and the thoughtfulness I’ve put into both the mechanics and storytelling, I believe I have fully met (and even exceeded) the expectations of the project, justifying why I deserve a 0.9/1. "
   ]
  }
 ],
 "metadata": {
  "language_info": {
   "name": "python"
  }
 },
 "nbformat": 4,
 "nbformat_minor": 2
}
