{
 "cells": [
  {
   "cell_type": "markdown",
   "id": "60cb5f16",
   "metadata": {},
   "source": [
    "---\n",
    "layout: post\n",
    "title: Presentation Take Aways\n",
    "description: Presentation Applications\n",
    "categories: [Computer Science Notes]\n",
    "courses: { csse: {week: 3}, csp: {week: 3}, csa: {week: 2} }\n",
    "menu: nav/pair_programming.html\n",
    "permalink: /csseNotes/Presentation_TakeAways/\n",
    "type: ccc\n",
    "comments: true\n",
    "---"
   ]
  },
  {
   "cell_type": "markdown",
   "id": "b15510a6",
   "metadata": {},
   "source": [
    "# Takeaways \n",
    "\n",
    "#### Tracia Mercer - Technology/Business\n",
    "#### David Tomasz - Worldwide perspective/Law enforcement\n",
    "#### Victor Nzeata - Military background/Acedmeic\n",
    "\n",
    "## Carreers\n",
    "Super satisfying and rewarding job with being able to find holes in other malicious code to protect people in the United States. \n",
    "\n",
    "Be curious about the cyberspace because it is a huge place with many vulnerabilites. There are many ways that foreign adverisaries steal industry secrets and having a career in cybersecurity will help fight against it. Work hard enough to put in the work to get over the learning curve. Being flexible to change especially in the cybersecurity space. Good research is super important, and putting the work afterwards is extremely important to have. \n",
    "\n",
    "## Personal Qualities\n",
    "Personal integrity is important to have especially having the rescourses with sensitive data. Having the dicipline to be trusted with top-secret information. Have the mentality to put yourself in other people's shoes and being aware of the vulnrabilites that may presnet themselves. \n",
    "\n",
    "Have a good foundation of computer knowledge is important to have. As well as being a good, likeable person and qualified in something that you are pastionate about. Having a good network is really important having a people surrouding network with lots of people.\n",
    "\n",
    "## Final Takeaway\n",
    "I definetly learned a lot of aspects in cybersecurity especially the human side and the technological side. This was an intresting presentation full of a lot of information about cybersecurity. It's important to learn and be flexible in the cyberspace because it always changes especially with the advent of AI and the development. \n",
    "\n",
    "## Images\n",
    "![Image](https://github.com/user-attachments/assets/52b44273-e7b9-4c6a-9085-0c84ab7a4983)\n",
    "![Image](https://github.com/user-attachments/assets/bf6e9f88-a202-4fd7-9542-51b77820c01e)\n",
    "![Image](https://github.com/user-attachments/assets/ea4811c2-1675-47a3-a108-9146291cfc85)"
   ]
  }
 ],
 "metadata": {
  "language_info": {
   "name": "python"
  }
 },
 "nbformat": 4,
 "nbformat_minor": 5
}
