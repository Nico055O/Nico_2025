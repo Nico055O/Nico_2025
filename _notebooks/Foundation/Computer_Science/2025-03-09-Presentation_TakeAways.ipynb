{
 "cells": [
  {
   "cell_type": "markdown",
   "id": "60cb5f16",
   "metadata": {},
   "source": [
    "---\n",
    "layout: post\n",
    "title: Presentation Take Aways\n",
    "description: Presentation Applications\n",
    "categories: [Computer Science Notes]\n",
    "courses: { csse: {week: 3}, csp: {week: 3}, csa: {week: 2} }\n",
    "menu: nav/pair_programming.html\n",
    "permalink: /csseNotes/Presentation_TakeAways/\n",
    "type: ccc\n",
    "comments: true\n",
    "---"
   ]
  },
  {
   "cell_type": "markdown",
   "id": "b15510a6",
   "metadata": {},
   "source": []
  }
 ],
 "metadata": {
  "language_info": {
   "name": "python"
  }
 },
 "nbformat": 4,
 "nbformat_minor": 5
}
